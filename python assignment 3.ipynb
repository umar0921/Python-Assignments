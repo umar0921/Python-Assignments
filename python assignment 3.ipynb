{
 "cells": [
  {
   "cell_type": "markdown",
   "id": "fd49acac",
   "metadata": {},
   "source": [
    "1.1 Write a Python Program to implement your own myreduce() function which works exactly\n",
    "like Python's built-in function reduce()"
   ]
  },
  {
   "cell_type": "code",
   "execution_count": 1,
   "id": "c8decedc",
   "metadata": {},
   "outputs": [],
   "source": [
    "def myreduce(function, sequence):\n",
    "    value = sequence[0]\n",
    "    for items in sequence[1:]:\n",
    "        value = function(value, items)\n",
    "    return value"
   ]
  },
  {
   "cell_type": "markdown",
   "id": "54b935cf",
   "metadata": {},
   "source": [
    "1.2 Write a Python program to implement your own myfilter() function which works exactly\n",
    "like Python's built-in function filter()"
   ]
  },
  {
   "cell_type": "code",
   "execution_count": 2,
   "id": "60ac2f74",
   "metadata": {},
   "outputs": [],
   "source": [
    "def myfilter(function, sequence):\n",
    "    my_list = []\n",
    "    for items in sequence:\n",
    "        if function(items) == True:\n",
    "            my_list.append(items) \n",
    "    return my_list"
   ]
  },
  {
   "cell_type": "markdown",
   "id": "e42e4a27",
   "metadata": {},
   "source": [
    "2. Implement List comprehensions to produce the following lists.\n",
    "Write List comprehensions to produce the following Lists\n",
    "\n",
    "['x', 'xx', 'xxx', 'xxxx', 'y', 'yy', 'yyy', 'yyyy', 'z', 'zz', 'zzz', 'zzzz']\n",
    "['x', 'y', 'z', 'xx', 'yy', 'zz', 'xxx', 'yyy', 'zzz', 'xxxx', 'yyyy', 'zzzz']\n",
    "[[2], [3], [4], [3], [4], [5], [4], [5], [6]] \n",
    "[[2, 3, 4, 5], [3, 4, 5, 6],[4, 5, 6, 7], [5, 6, 7, 8]]\n",
    "[(1, 1), (2, 1), (3, 1), (1, 2), (2, 2), (3, 2), (1, 3), (2, 3), (3, 3)]"
   ]
  },
  {
   "cell_type": "code",
   "execution_count": 3,
   "id": "5a24ccd1",
   "metadata": {},
   "outputs": [
    {
     "data": {
      "text/plain": [
       "['x', 'xx', 'xxx', 'xxxx', 'y', 'yy', 'yyy', 'yyyy', 'z', 'zz', 'zzz', 'zzzz']"
      ]
     },
     "execution_count": 3,
     "metadata": {},
     "output_type": "execute_result"
    }
   ],
   "source": [
    "l1 = [\"x\", \"y\", \"z\"]\n",
    "[(item*num) for item in l1 for num in range(1, 5)]    "
   ]
  },
  {
   "cell_type": "code",
   "execution_count": 4,
   "id": "d295f6e3",
   "metadata": {},
   "outputs": [
    {
     "data": {
      "text/plain": [
       "['x', 'y', 'z', 'xx', 'yy', 'zz', 'xxx', 'yyy', 'zzz', 'xxxx', 'yyyy', 'zzzz']"
      ]
     },
     "execution_count": 4,
     "metadata": {},
     "output_type": "execute_result"
    }
   ],
   "source": [
    "l2 = [\"x\", \"y\", \"z\"]\n",
    "[(item*num) for num in range(1, 5) for item in l2]"
   ]
  },
  {
   "cell_type": "code",
   "execution_count": 5,
   "id": "cbdbf3b8",
   "metadata": {},
   "outputs": [
    {
     "data": {
      "text/plain": [
       "[[2], [3], [4], [3], [4], [5], [4], [5], [6]]"
      ]
     },
     "execution_count": 5,
     "metadata": {},
     "output_type": "execute_result"
    }
   ],
   "source": [
    "l3 = [2, 3, 4]\n",
    "[[(item + num)] for item in l3 for num in range(0, 3)]"
   ]
  },
  {
   "cell_type": "code",
   "execution_count": 6,
   "id": "a2c1360b",
   "metadata": {},
   "outputs": [
    {
     "data": {
      "text/plain": [
       "[[2, 3, 4, 5], [3, 4, 5, 6], [4, 5, 6, 7], [5, 6, 7, 8]]"
      ]
     },
     "execution_count": 6,
     "metadata": {},
     "output_type": "execute_result"
    }
   ],
   "source": [
    "l4 = [2, 3, 4, 5]\n",
    "[[(item + num) for item in l4] for num in range(0,4)]"
   ]
  },
  {
   "cell_type": "code",
   "execution_count": 7,
   "id": "12760155",
   "metadata": {},
   "outputs": [
    {
     "data": {
      "text/plain": [
       "[(1, 1), (2, 1), (3, 1), (1, 2), (2, 2), (3, 2), (1, 3), (2, 3), (3, 3)]"
      ]
     },
     "execution_count": 7,
     "metadata": {},
     "output_type": "execute_result"
    }
   ],
   "source": [
    "l5 = [1, 2, 3]\n",
    "[(item, item2) for item2 in l5 for item in l5]"
   ]
  }
 ],
 "metadata": {
  "kernelspec": {
   "display_name": "Python 3",
   "language": "python",
   "name": "python3"
  },
  "language_info": {
   "codemirror_mode": {
    "name": "ipython",
    "version": 3
   },
   "file_extension": ".py",
   "mimetype": "text/x-python",
   "name": "python",
   "nbconvert_exporter": "python",
   "pygments_lexer": "ipython3",
   "version": "3.8.8"
  }
 },
 "nbformat": 4,
 "nbformat_minor": 5
}
