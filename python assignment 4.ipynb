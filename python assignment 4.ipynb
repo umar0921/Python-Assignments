{
 "cells": [
  {
   "cell_type": "markdown",
   "id": "5620621b",
   "metadata": {},
   "source": [
    "1.1 Write a Python Program(with class concepts) to find the area of the triangle using the below\n",
    "formula.\n",
    "area = (s*(s-a)*(s-b)*(s-c)) ** 0.5\n",
    "Function to take the length of the sides of triangle from user should be defined in the parent\n",
    "class and function to calculate the area should be defined in subclass."
   ]
  },
  {
   "cell_type": "code",
   "execution_count": 1,
   "id": "5f879864",
   "metadata": {},
   "outputs": [
    {
     "name": "stdout",
     "output_type": "stream",
     "text": [
      "Side 'a' = 4\n",
      "Side 'b' = 8\n",
      "Side 'c' = 9\n",
      "15.998046755776157\n"
     ]
    }
   ],
   "source": [
    "class Triangle:\n",
    "    def __init__(self):\n",
    "        self.a = int(input(\"Side 'a' = \"))\n",
    "        self.b = int(input(\"Side 'b' = \"))                 \n",
    "        self.c = int(input(\"Side 'c' = \"))\n",
    "    def area(self):\n",
    "        s = (self.a + self.b + self.c)/2\n",
    "        return (s*(s-self.a)*(s-self.b)*(s-self.c))**0.5\n",
    "t = Triangle()\n",
    "print(t.area())"
   ]
  },
  {
   "cell_type": "markdown",
   "id": "16037c49",
   "metadata": {},
   "source": [
    "1.2 Write a function filter_long_words() that takes a list of words and an integer n and returns\n",
    "the list of words that are longer than n."
   ]
  },
  {
   "cell_type": "code",
   "execution_count": 2,
   "id": "68265335",
   "metadata": {},
   "outputs": [],
   "source": [
    "def filter_long_words(list_of_words, n):\n",
    "    list1 = []\n",
    "    for items in list_of_words:\n",
    "        if len(items) > n:\n",
    "            list1.append(items)\n",
    "    return list1"
   ]
  },
  {
   "cell_type": "markdown",
   "id": "0c5035fd",
   "metadata": {},
   "source": [
    "2.1 Write a Python program using function concept that maps list of words into a list of integers\n",
    "representing the lengths of the corresponding words.\n",
    "Hint: If a list [ ab,cde,erty] is passed on to the python function output should come as [2,3,4]\n",
    "Here 2,3 and 4 are the lengths of the words in the list."
   ]
  },
  {
   "cell_type": "code",
   "execution_count": 3,
   "id": "c56f3dff",
   "metadata": {},
   "outputs": [],
   "source": [
    "def word_to_integer(list_of_words):\n",
    "    num_list = []\n",
    "    for items in list_of_words:\n",
    "        num_list.append(len(items))\n",
    "    return num_list"
   ]
  },
  {
   "cell_type": "markdown",
   "id": "eac50665",
   "metadata": {},
   "source": [
    "2.2 Write a Python function which takes a character (i.e. a string of length 1) and returns True if\n",
    "it is a vowel, False otherwise."
   ]
  },
  {
   "cell_type": "code",
   "execution_count": 4,
   "id": "2aa367b1",
   "metadata": {},
   "outputs": [],
   "source": [
    "def if_vowel(character):\n",
    "    if character in [\"a\", \"e\", \"i\", \"o\", \"u\"]:\n",
    "        return True\n",
    "    else:\n",
    "        return False"
   ]
  }
 ],
 "metadata": {
  "kernelspec": {
   "display_name": "Python 3",
   "language": "python",
   "name": "python3"
  },
  "language_info": {
   "codemirror_mode": {
    "name": "ipython",
    "version": 3
   },
   "file_extension": ".py",
   "mimetype": "text/x-python",
   "name": "python",
   "nbconvert_exporter": "python",
   "pygments_lexer": "ipython3",
   "version": "3.8.8"
  }
 },
 "nbformat": 4,
 "nbformat_minor": 5
}
